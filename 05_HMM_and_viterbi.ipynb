{
 "cells": [
  {
   "cell_type": "markdown",
   "metadata": {},
   "source": [
    "# 隐马尔可夫模型（HMM）及Viterbi算法"
   ]
  },
  {
   "cell_type": "markdown",
   "metadata": {},
   "source": [
    "- HMM可用于标注问题的统计学模型\n",
    "- 描述由隐藏的马尔科夫链随机生成观测序列的过程，属于生成模型\n",
    "- 在实际生产和生活中有广泛的应用，语音识别、自然语言处理、生物信息、模式识别等"
   ]
  },
  {
   "cell_type": "markdown",
   "metadata": {},
   "source": [
    "## HMM遵循两个假设\n",
    "- 齐次马尔科夫假设\n",
    "    马尔科夫链在任意时刻的状态只依赖其前一时刻的状态，与其他时刻的状态及观测无关，也与时刻t无关\n",
    "- 观察独立性假设\n",
    "    任意时刻的观测只依赖于该时刻的马尔科夫链的状态，与其他观测及状态无关\n",
    "\n",
    "HMM模型由初始状态概率向量、状态转移概率矩阵、观测概率矩阵三部分组成\n",
    "\n",
    "## HMM的三个基本问题\n",
    "- 概率计算问题\n",
    "    已知模型参数和观测序列，计算该观测序列出现的概率\n",
    "- 学习问题\n",
    "    已知观测序列，估计模型参数\n",
    "- 预测问题\n",
    "    已知模型参数和观测序列，求对应的状态序列"
   ]
  },
  {
   "cell_type": "markdown",
   "metadata": {},
   "source": [
    "## Viterbi算法\n",
    "- 用于解决预测问题\n",
    "- 用于寻找最有可能的状态序列\n",
    "- 与前向算法类似，但是是一种贪心算法，每一步只考虑当前状态的最优解\n",
    "- 用于解决概率计算问题，即给定模型参数和观测序列，计算该观测序列出现的概率\n"
   ]
  },
  {
   "cell_type": "code",
   "execution_count": 1,
   "metadata": {},
   "outputs": [],
   "source": [
    "import numpy as np\n",
    "\n",
    "def Viterbi(A, B, PI, V, Q, obs):\n",
    "\n",
    "    N = len(Q)  # 状态类型数量\n",
    "    T = len(obs)  # 观察状态的长度\n",
    "    delta = np.array([[0] * N] * T, dtype=np.float64)\n",
    "    phi = np.array([[0] * N] * T, dtype=np.int64)\n",
    "    # 初始化\n",
    "    for i in range(N):\n",
    "        delta[0, i] = PI[i]*B[i][V.index(obs[0])]\n",
    "        phi[0, i] = 0\n",
    "\n",
    "    # 递归计算\n",
    "    for i in range(1, T):\n",
    "        for j in range(N):\n",
    "            tmp = [delta[i-1, k]*A[k][j] for k in range(N)]\n",
    "            delta[i,j] = max(tmp) * B[j][V.index(obs[i])]\n",
    "            phi[i,j] = tmp.index(max(tmp))\n",
    "\n",
    "    # 最终的概率及节点\n",
    "    P = max(delta[T-1, :])\n",
    "    I = int(np.argmax(delta[T-1, :]))\n",
    "\n",
    "    # 最优路径path\n",
    "    path = [I]\n",
    "    for i in reversed(range(1, T)):\n",
    "        end = path[-1]\n",
    "        path.append(phi[i, end])\n",
    "\n",
    "    hidden_states = [Q[i] for i in reversed(path)]\n",
    "\n",
    "    return P, hidden_states\n",
    "\n",
    "\n",
    "def main():\n",
    "\n",
    "    # 状态集合\n",
    "    Q = ('欢乐谷', '迪士尼', '外滩')\n",
    "    # 观测集合\n",
    "    V = ['购物', '不购物']\n",
    "    # 转移概率: Q -> Q\n",
    "    A = [[0.8, 0.05, 0.15],\n",
    "         [0.2, 0.6, 0.2],\n",
    "         [0.2, 0.3, 0.5]\n",
    "        ]\n",
    "\n",
    "    # 发射概率, Q -> V\n",
    "    B = [[0.1, 0.9],\n",
    "         [0.8, 0.2],\n",
    "         [0.3, 0.7]\n",
    "         ]\n",
    "\n",
    "    # 初始概率\n",
    "    PI = [1/3, 1/3, 1/3]\n",
    "\n",
    "    # 观测序列\n",
    "    obs = ['不购物', '购物', '购物']\n",
    "\n",
    "    P, hidden_states = Viterbi(A,B,PI,V,Q,obs)\n",
    "    print('最大的概率为: %.5f.'%P)\n",
    "    print('隐藏序列为：%s.'%hidden_states)"
   ]
  },
  {
   "cell_type": "code",
   "execution_count": 3,
   "metadata": {},
   "outputs": [
    {
     "name": "stdout",
     "output_type": "stream",
     "text": [
      "最大的概率为: 0.02688.\n",
      "隐藏序列为：['外滩', '迪士尼', '迪士尼'].\n"
     ]
    }
   ],
   "source": [
    "main()"
   ]
  }
 ],
 "metadata": {
  "kernelspec": {
   "display_name": "common8",
   "language": "python",
   "name": "python3"
  },
  "language_info": {
   "codemirror_mode": {
    "name": "ipython",
    "version": 3
   },
   "file_extension": ".py",
   "mimetype": "text/x-python",
   "name": "python",
   "nbconvert_exporter": "python",
   "pygments_lexer": "ipython3",
   "version": "3.8.16"
  }
 },
 "nbformat": 4,
 "nbformat_minor": 2
}
