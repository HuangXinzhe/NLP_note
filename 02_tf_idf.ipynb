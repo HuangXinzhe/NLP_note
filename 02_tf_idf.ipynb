{
 "cells": [
  {
   "cell_type": "markdown",
   "metadata": {},
   "source": [
    "# TF-IDF\n",
    "- tf\n",
    "    - 统计文档内的词频\n",
    "- idf\n",
    "    - 统计词在文档集合中的逆文档频率（idf=log2(n/k)，其中n为全部文档的个数，k为包含该词的文档个数）"
   ]
  },
  {
   "cell_type": "code",
   "execution_count": 1,
   "metadata": {},
   "outputs": [],
   "source": [
    "text1 =\"\"\"\n",
    "Football is a family of team sports that involve, to varying degrees, kicking a ball to score a goal. \n",
    "Unqualified, the word football is understood to refer to whichever form of football is the most popular \n",
    "in the regional context in which the word appears. Sports commonly called football in certain places \n",
    "include association football (known as soccer in some countries); gridiron football (specifically American \n",
    "football or Canadian football); Australian rules football; rugby football (either rugby league or rugby union); \n",
    "and Gaelic football. These different variations of football are known as football codes.\n",
    "\"\"\"\n",
    "\n",
    "text2 = \"\"\"\n",
    "Basketball is a team sport in which two teams of five players, opposing one another on a rectangular court, \n",
    "compete with the primary objective of shooting a basketball (approximately 9.4 inches (24 cm) in diameter) \n",
    "through the defender's hoop (a basket 18 inches (46 cm) in diameter mounted 10 feet (3.048 m) high to a backboard \n",
    "at each end of the court) while preventing the opposing team from shooting through their own hoop. A field goal is \n",
    "worth two points, unless made from behind the three-point line, when it is worth three. After a foul, timed play stops \n",
    "and the player fouled or designated to shoot a technical foul is given one or more one-point free throws. The team with \n",
    "the most points at the end of the game wins, but if regulation play expires with the score tied, an additional period \n",
    "of play (overtime) is mandated.\n",
    "\"\"\"\n",
    "\n",
    "text3 = \"\"\"\n",
    "Volleyball, game played by two teams, usually of six players on a side, in which the players use their hands to bat a \n",
    "ball back and forth over a high net, trying to make the ball touch the court within the opponents’ playing area before \n",
    "it can be returned. To prevent this a player on the opposing team bats the ball up and toward a teammate before it touches \n",
    "the court surface—that teammate may then volley it back across the net or bat it to a third teammate who volleys it across \n",
    "the net. A team is allowed only three touches of the ball before it must be returned over the net.\n",
    "\"\"\""
   ]
  },
  {
   "cell_type": "markdown",
   "metadata": {},
   "source": [
    "## 文档预处理\n",
    "- 去除换行\n",
    "- 分句\n",
    "- 分词\n",
    "- 去除标点\n",
    "- 去除停用词"
   ]
  },
  {
   "cell_type": "code",
   "execution_count": 2,
   "metadata": {},
   "outputs": [],
   "source": [
    "import nltk\n",
    "import string\n",
    "\n",
    "# 文本预处理\n",
    "# 函数：text文件分句，分词，并去掉标点\n",
    "def get_tokens(text):\n",
    "    text = text.replace('\\n', '')\n",
    "    sents = nltk.sent_tokenize(text)  # 分句\n",
    "    tokens = []\n",
    "    for sent in sents:\n",
    "        for word in nltk.word_tokenize(sent):  # 分词\n",
    "            if word not in string.punctuation: # 去掉标点\n",
    "                tokens.append(word)\n",
    "    return tokens"
   ]
  },
  {
   "cell_type": "code",
   "execution_count": 3,
   "metadata": {},
   "outputs": [],
   "source": [
    "from nltk.corpus import stopwords     #停用词\n",
    "from collections import Counter\n",
    "\n",
    "# 对原始的text文件去掉停用词\n",
    "# 生成count字典，即每个单词的出现次数\n",
    "def make_count(text):\n",
    "    tokens = get_tokens(text)\n",
    "    filtered = [w for w in tokens if not w in stopwords.words('english')]    #去掉停用词\n",
    "    count = Counter(filtered)\n",
    "    return count"
   ]
  },
  {
   "cell_type": "code",
   "execution_count": 4,
   "metadata": {},
   "outputs": [
    {
     "name": "stdout",
     "output_type": "stream",
     "text": [
      "Counter({'ball': 4, 'net': 4, 'teammate': 3, 'players': 2, 'bat': 2, 'back': 2, 'court': 2, 'returned': 2, 'team': 2, 'touches': 2, 'across': 2, 'Volleyball': 1, 'game': 1, 'played': 1, 'two': 1, 'teams': 1, 'usually': 1, 'six': 1, 'side': 1, 'use': 1, 'hands': 1, 'forth': 1, 'high': 1, 'trying': 1, 'make': 1, 'touch': 1, 'within': 1, 'opponents': 1, '’': 1, 'playing': 1, 'area': 1, 'To': 1, 'prevent': 1, 'player': 1, 'opposing': 1, 'bats': 1, 'toward': 1, 'surface—that': 1, 'may': 1, 'volley': 1, 'third': 1, 'volleys': 1, 'A': 1, 'allowed': 1, 'three': 1, 'must': 1})\n"
     ]
    }
   ],
   "source": [
    "result_text_3 = make_count(text3)\n",
    "print(result_text_3)"
   ]
  },
  {
   "cell_type": "markdown",
   "metadata": {},
   "source": [
    "## Gensim中的TF-IDF"
   ]
  },
  {
   "cell_type": "code",
   "execution_count": 5,
   "metadata": {},
   "outputs": [
    {
     "name": "stdout",
     "output_type": "stream",
     "text": [
      "\n",
      "Training by gensim Tfidf Model.......\n",
      "\n",
      "Top words in document 1\n",
      "    Word: football, TF-IDF: 0.84766\n",
      "    Word: rugby, TF-IDF: 0.21192\n",
      "    Word: known, TF-IDF: 0.14128\n",
      "Top words in document 2\n",
      "    Word: play, TF-IDF: 0.29872\n",
      "    Word: cm, TF-IDF: 0.19915\n",
      "    Word: diameter, TF-IDF: 0.19915\n",
      "Top words in document 3\n",
      "    Word: net, TF-IDF: 0.45775\n",
      "    Word: teammate, TF-IDF: 0.34331\n",
      "    Word: across, TF-IDF: 0.22888\n"
     ]
    }
   ],
   "source": [
    "from nltk.corpus import stopwords     #停用词\n",
    "from gensim import corpora, models, matutils\n",
    "\n",
    "#training by gensim's Ifidf Model\n",
    "def get_words(text):\n",
    "    tokens = get_tokens(text)\n",
    "    filtered = [w for w in tokens if not w in stopwords.words('english')]\n",
    "    return filtered\n",
    "\n",
    "# get text\n",
    "count1, count2, count3 = get_words(text1), get_words(text2), get_words(text3)\n",
    "countlist = [count1, count2, count3]\n",
    "# training by TfidfModel in gensim\n",
    "dictionary = corpora.Dictionary(countlist)\n",
    "new_dict = {v:k for k,v in dictionary.token2id.items()}\n",
    "corpus2 = [dictionary.doc2bow(count) for count in countlist]\n",
    "tfidf2 = models.TfidfModel(corpus2)\n",
    "corpus_tfidf = tfidf2[corpus2]\n",
    "\n",
    "# output\n",
    "print(\"\\nTraining by gensim Tfidf Model.......\\n\")\n",
    "for i, doc in enumerate(corpus_tfidf):\n",
    "    print(\"Top words in document %d\"%(i + 1))\n",
    "    sorted_words = sorted(doc, key=lambda x: x[1], reverse=True)    #type=list\n",
    "    for num, score in sorted_words[:3]:\n",
    "        print(\"    Word: %s, TF-IDF: %s\"%(new_dict[num], round(score, 5)))"
   ]
  },
  {
   "cell_type": "markdown",
   "metadata": {},
   "source": [
    "## 手写TF-IDF"
   ]
  },
  {
   "cell_type": "code",
   "execution_count": 9,
   "metadata": {},
   "outputs": [
    {
     "name": "stdout",
     "output_type": "stream",
     "text": [
      "Training by original algorithm......\n",
      "\n",
      "Top words in document 1\n",
      "    Word: football, TF-IDF: 0.84766\n",
      "    Word: rugby, TF-IDF: 0.21192\n",
      "    Word: word, TF-IDF: 0.14128\n",
      "Top words in document 2\n",
      "    Word: play, TF-IDF: 0.29872\n",
      "    Word: one, TF-IDF: 0.19915\n",
      "    Word: shooting, TF-IDF: 0.19915\n",
      "Top words in document 3\n",
      "    Word: net, TF-IDF: 0.45775\n",
      "    Word: teammate, TF-IDF: 0.34331\n",
      "    Word: bat, TF-IDF: 0.22888\n"
     ]
    }
   ],
   "source": [
    "import math\n",
    "import numpy as np\n",
    "\n",
    "def tfidf(word, count, count_list):\n",
    "    # 统计词频\n",
    "    tf = count[word] / sum(count.values())\n",
    "\n",
    "    # 计算count_list有多少个文件包含word\n",
    "    n_containing = sum(1 for count in count_list if word in count)\n",
    "    idf = math.log2(len(count_list) / n_containing)\n",
    "    return tf * idf\n",
    "\n",
    "# 对向量做规范化, normalize\n",
    "def unitvec(sorted_words):\n",
    "    lst = [item[1] for item in sorted_words]\n",
    "    L2Norm = math.sqrt(sum(np.array(lst)*np.array(lst)))\n",
    "    unit_vector = [(item[0], item[1]/L2Norm) for item in sorted_words]\n",
    "    return unit_vector\n",
    "\n",
    "# TF-IDF测试\n",
    "count1, count2, count3 = make_count(text1), make_count(text2), make_count(text3)\n",
    "countlist = [count1, count2, count3]\n",
    "print(\"Training by original algorithm......\\n\")\n",
    "for i, count in enumerate(countlist):\n",
    "    print(\"Top words in document %d\"%(i + 1))\n",
    "    scores = {word: tfidf(word, count, countlist) for word in count}\n",
    "    sorted_words = sorted(scores.items(), key=lambda x: x[1], reverse=True)    #type=list\n",
    "    sorted_words = matutils.unitvec(sorted_words)\n",
    "    for word, score in sorted_words[:3]:\n",
    "        print(\"    Word: %s, TF-IDF: %s\"%(word, round(score, 5)))\n"
   ]
  }
 ],
 "metadata": {
  "kernelspec": {
   "display_name": "common8",
   "language": "python",
   "name": "python3"
  },
  "language_info": {
   "codemirror_mode": {
    "name": "ipython",
    "version": 3
   },
   "file_extension": ".py",
   "mimetype": "text/x-python",
   "name": "python",
   "nbconvert_exporter": "python",
   "pygments_lexer": "ipython3",
   "version": "3.8.16"
  },
  "orig_nbformat": 4
 },
 "nbformat": 4,
 "nbformat_minor": 2
}
